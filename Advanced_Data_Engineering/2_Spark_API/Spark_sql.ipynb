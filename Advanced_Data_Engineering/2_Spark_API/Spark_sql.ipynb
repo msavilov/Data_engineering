{
 "cells": [
  {
   "cell_type": "code",
   "execution_count": 1,
   "id": "5c797072-6ae1-48ee-a847-3c7fb4c75d83",
   "metadata": {},
   "outputs": [],
   "source": [
    "import os\n",
    "import warnings\n",
    "from datetime import datetime\n",
    "\n",
    "from pyspark.sql.functions import col, lag, lit, round, row_number\n",
    "from pyspark.sql import SparkSession\n",
    "from pyspark.sql import Window\n",
    "\n",
    "warnings.filterwarnings('ignore')"
   ]
  },
  {
   "cell_type": "code",
   "execution_count": 2,
   "id": "07c43006-70fd-47d8-8aeb-03a9061da3dc",
   "metadata": {},
   "outputs": [
    {
     "data": {
      "text/html": [
       "\n",
       "            <div>\n",
       "                <p><b>SparkSession - in-memory</b></p>\n",
       "                \n",
       "        <div>\n",
       "            <p><b>SparkContext</b></p>\n",
       "\n",
       "            <p><a href=\"http://host.docker.internal:4040\">Spark UI</a></p>\n",
       "\n",
       "            <dl>\n",
       "              <dt>Version</dt>\n",
       "                <dd><code>v3.5.0</code></dd>\n",
       "              <dt>Master</dt>\n",
       "                <dd><code>local[2]</code></dd>\n",
       "              <dt>AppName</dt>\n",
       "                <dd><code>dz_spark_sql</code></dd>\n",
       "            </dl>\n",
       "        </div>\n",
       "        \n",
       "            </div>\n",
       "        "
      ],
      "text/plain": [
       "<pyspark.sql.session.SparkSession at 0x22978d542e0>"
      ]
     },
     "execution_count": 2,
     "metadata": {},
     "output_type": "execute_result"
    }
   ],
   "source": [
    "spark = SparkSession.builder.appName('dz_spark_sql').master('local[2]').getOrCreate()\n",
    "spark"
   ]
  },
  {
   "cell_type": "code",
   "execution_count": 3,
   "id": "692ee1cb-52ee-4c38-8075-73ab461ad595",
   "metadata": {},
   "outputs": [],
   "source": [
    "df = (\n",
    "    spark.read.\n",
    "    option('header', True).\n",
    "    option('sep', ',').\n",
    "    option('inferSchema', True).\n",
    "    csv('owid-covid-data.csv')\n",
    ")"
   ]
  },
  {
   "cell_type": "code",
   "execution_count": 4,
   "id": "1a9c90e8-b589-47f9-ac12-794cfc5ce022",
   "metadata": {},
   "outputs": [
    {
     "name": "stdout",
     "output_type": "stream",
     "text": [
      "root\n",
      " |-- iso_code: string (nullable = true)\n",
      " |-- continent: string (nullable = true)\n",
      " |-- location: string (nullable = true)\n",
      " |-- date: date (nullable = true)\n",
      " |-- total_cases: double (nullable = true)\n",
      " |-- new_cases: double (nullable = true)\n",
      " |-- new_cases_smoothed: double (nullable = true)\n",
      " |-- total_deaths: double (nullable = true)\n",
      " |-- new_deaths: double (nullable = true)\n",
      " |-- new_deaths_smoothed: double (nullable = true)\n",
      " |-- total_cases_per_million: double (nullable = true)\n",
      " |-- new_cases_per_million: double (nullable = true)\n",
      " |-- new_cases_smoothed_per_million: double (nullable = true)\n",
      " |-- total_deaths_per_million: double (nullable = true)\n",
      " |-- new_deaths_per_million: double (nullable = true)\n",
      " |-- new_deaths_smoothed_per_million: double (nullable = true)\n",
      " |-- reproduction_rate: double (nullable = true)\n",
      " |-- icu_patients: double (nullable = true)\n",
      " |-- icu_patients_per_million: double (nullable = true)\n",
      " |-- hosp_patients: double (nullable = true)\n",
      " |-- hosp_patients_per_million: double (nullable = true)\n",
      " |-- weekly_icu_admissions: double (nullable = true)\n",
      " |-- weekly_icu_admissions_per_million: double (nullable = true)\n",
      " |-- weekly_hosp_admissions: double (nullable = true)\n",
      " |-- weekly_hosp_admissions_per_million: double (nullable = true)\n",
      " |-- new_tests: double (nullable = true)\n",
      " |-- total_tests: double (nullable = true)\n",
      " |-- total_tests_per_thousand: double (nullable = true)\n",
      " |-- new_tests_per_thousand: double (nullable = true)\n",
      " |-- new_tests_smoothed: double (nullable = true)\n",
      " |-- new_tests_smoothed_per_thousand: double (nullable = true)\n",
      " |-- positive_rate: double (nullable = true)\n",
      " |-- tests_per_case: double (nullable = true)\n",
      " |-- tests_units: string (nullable = true)\n",
      " |-- total_vaccinations: double (nullable = true)\n",
      " |-- people_vaccinated: double (nullable = true)\n",
      " |-- people_fully_vaccinated: double (nullable = true)\n",
      " |-- new_vaccinations: double (nullable = true)\n",
      " |-- new_vaccinations_smoothed: double (nullable = true)\n",
      " |-- total_vaccinations_per_hundred: double (nullable = true)\n",
      " |-- people_vaccinated_per_hundred: double (nullable = true)\n",
      " |-- people_fully_vaccinated_per_hundred: double (nullable = true)\n",
      " |-- new_vaccinations_smoothed_per_million: double (nullable = true)\n",
      " |-- stringency_index: double (nullable = true)\n",
      " |-- population: double (nullable = true)\n",
      " |-- population_density: double (nullable = true)\n",
      " |-- median_age: double (nullable = true)\n",
      " |-- aged_65_older: double (nullable = true)\n",
      " |-- aged_70_older: double (nullable = true)\n",
      " |-- gdp_per_capita: double (nullable = true)\n",
      " |-- extreme_poverty: double (nullable = true)\n",
      " |-- cardiovasc_death_rate: double (nullable = true)\n",
      " |-- diabetes_prevalence: double (nullable = true)\n",
      " |-- female_smokers: double (nullable = true)\n",
      " |-- male_smokers: double (nullable = true)\n",
      " |-- handwashing_facilities: double (nullable = true)\n",
      " |-- hospital_beds_per_thousand: double (nullable = true)\n",
      " |-- life_expectancy: double (nullable = true)\n",
      " |-- human_development_index: double (nullable = true)\n",
      "\n"
     ]
    }
   ],
   "source": [
    "df.printSchema()"
   ]
  },
  {
   "cell_type": "markdown",
   "id": "be7e04ce-3f63-4d25-ab41-d27cb1188336",
   "metadata": {},
   "source": [
    "#### Задание 1.\n",
    "Выберите 15 стран с наибольшим процентом переболевших на 31 марта (в выходящем датасете необходимы колонки: iso_code, страна, процент переболевших).\n",
    "\n",
    "**Примечание:** в условии задачи не указано на 31 марта какого года необходимо произвести расчёт. Расчёт давался на 31 марта 2021 года"
   ]
  },
  {
   "cell_type": "code",
   "execution_count": 5,
   "id": "eb922ef4-2a0f-41b7-b00a-66fac63478f0",
   "metadata": {},
   "outputs": [],
   "source": [
    "date = '2021-03-31'"
   ]
  },
  {
   "cell_type": "markdown",
   "id": "4929b625-78a7-45b0-87b0-e1826e65f4ba",
   "metadata": {},
   "source": [
    "Для подсчёта будем использовать признак 'total_cases_per_million', который характеризует общее число заболевших в переводе на 1 млн на указанную дату, из которого делением на 10 000 легко получаем процент заболевших от населения. "
   ]
  },
  {
   "cell_type": "code",
   "execution_count": 6,
   "id": "78d22610-2769-4118-852a-320f0333e252",
   "metadata": {},
   "outputs": [
    {
     "name": "stdout",
     "output_type": "stream",
     "text": [
      "+----------+--------+-------------------+-----------------------+\n",
      "|      date|iso_code|           location|total_cases_per_million|\n",
      "+----------+--------+-------------------+-----------------------+\n",
      "|2021-03-31|     AFG|        Afghanistan|               1450.203|\n",
      "|2021-03-31|OWID_AFR|             Africa|               3145.844|\n",
      "|2021-03-31|     ALB|            Albania|              43490.514|\n",
      "|2021-03-31|     DZA|            Algeria|               2672.502|\n",
      "|2021-03-31|     AND|            Andorra|             155439.073|\n",
      "|2021-03-31|     AGO|             Angola|                678.842|\n",
      "|2021-03-31|     AIA|           Anguilla|                   NULL|\n",
      "|2021-03-31|     ATG|Antigua and Barbuda|              11600.359|\n",
      "|2021-03-31|     ARG|          Argentina|              51969.922|\n",
      "|2021-03-31|     ARM|            Armenia|              65009.716|\n",
      "|2021-03-31|OWID_ASI|               Asia|               6143.981|\n",
      "|2021-03-31|     AUS|          Australia|               1149.888|\n",
      "|2021-03-31|     AUT|            Austria|              60648.983|\n",
      "|2021-03-31|     AZE|         Azerbaijan|              25812.061|\n",
      "|2021-03-31|     BHS|            Bahamas|              23188.929|\n",
      "|2021-03-31|     BHR|            Bahrain|              84888.601|\n",
      "|2021-03-31|     BGD|         Bangladesh|               3711.806|\n",
      "|2021-03-31|     BRB|           Barbados|              12708.311|\n",
      "|2021-03-31|     BLR|            Belarus|              34056.098|\n",
      "|2021-03-31|     BEL|            Belgium|              76141.694|\n",
      "+----------+--------+-------------------+-----------------------+\n",
      "only showing top 20 rows\n",
      "\n"
     ]
    }
   ],
   "source": [
    "df.select(\n",
    "    'date',\n",
    "    'iso_code',\n",
    "    'location',\n",
    "    'total_cases_per_million',\n",
    ").filter(col('date') == date).show()"
   ]
  },
  {
   "cell_type": "markdown",
   "id": "181be1e2-8f89-4540-8f9b-ddd56678dddc",
   "metadata": {},
   "source": [
    "Проанализируем записи с iso_code содержащими OWID"
   ]
  },
  {
   "cell_type": "code",
   "execution_count": 7,
   "id": "462f800a-b388-477c-82c2-cb400cb2d2ca",
   "metadata": {},
   "outputs": [
    {
     "name": "stdout",
     "output_type": "stream",
     "text": [
      "+----------+--------+---------------+-----------------------+\n",
      "|      date|iso_code|       location|total_cases_per_million|\n",
      "+----------+--------+---------------+-----------------------+\n",
      "|2021-03-31|OWID_AFR|         Africa|               3145.844|\n",
      "|2021-03-31|OWID_ASI|           Asia|               6143.981|\n",
      "|2021-03-31|OWID_EUR|         Europe|              53224.815|\n",
      "|2021-03-31|OWID_EUN| European Union|              60204.506|\n",
      "|2021-03-31|OWID_INT|  International|                   NULL|\n",
      "|2021-03-31|OWID_KOS|         Kosovo|              46141.453|\n",
      "|2021-03-31|OWID_NAM|  North America|              59345.329|\n",
      "|2021-03-31|OWID_CYN|Northern Cyprus|                   NULL|\n",
      "|2021-03-31|OWID_OCE|        Oceania|                888.307|\n",
      "|2021-03-31|OWID_SAM|  South America|              49098.225|\n",
      "|2021-03-31|OWID_WRL|          World|              16536.373|\n",
      "+----------+--------+---------------+-----------------------+\n",
      "\n"
     ]
    }
   ],
   "source": [
    "df.select(\n",
    "    'date',\n",
    "    'iso_code',\n",
    "    'location',\n",
    "    'total_cases_per_million',\n",
    ").filter(col('date') == date).filter(col('iso_code').contains('OWID')).show()"
   ]
  },
  {
   "cell_type": "markdown",
   "id": "2edaab9a-c72e-4806-9782-53b506ef12bc",
   "metadata": {},
   "source": [
    "Мы видим, что такие записи не относятся к странам, поэтому отфильтруем их. Косово не является официально признаной страной, поэтому исключим его, так как в списке отсутствуют другие непризнаные страны."
   ]
  },
  {
   "cell_type": "code",
   "execution_count": 8,
   "id": "d941eac1-43c3-41dd-8516-c7685b999cfb",
   "metadata": {},
   "outputs": [],
   "source": [
    "filt_df = df.select(\n",
    "    'date',\n",
    "    'iso_code',\n",
    "    'location',\n",
    "    'total_cases_per_million',\n",
    ").filter(col('date') == date).filter(~col('iso_code').contains('OWID'))"
   ]
  },
  {
   "cell_type": "code",
   "execution_count": 9,
   "id": "3b85f3d2-5d10-4a21-9d6b-1390565ca546",
   "metadata": {},
   "outputs": [],
   "source": [
    "result_1 = filt_df.select('iso_code', 'location', (round((col('total_cases_per_million') / 10000), 2)).alias('percent cases, %')).orderBy(col('percent cases, %').desc()).limit(15)"
   ]
  },
  {
   "cell_type": "code",
   "execution_count": 10,
   "id": "d4f528ce-82e0-4d82-8829-39f40a7b0854",
   "metadata": {},
   "outputs": [
    {
     "name": "stdout",
     "output_type": "stream",
     "text": [
      "+--------+-------------+----------------+\n",
      "|iso_code|     location|percent cases, %|\n",
      "+--------+-------------+----------------+\n",
      "|     AND|      Andorra|           15.54|\n",
      "|     MNE|   Montenegro|           14.52|\n",
      "|     CZE|      Czechia|           14.31|\n",
      "|     SMR|   San Marino|           13.94|\n",
      "|     SVN|     Slovenia|           10.37|\n",
      "|     LUX|   Luxembourg|            9.85|\n",
      "|     ISR|       Israel|            9.63|\n",
      "|     USA|United States|             9.2|\n",
      "|     SRB|       Serbia|            8.83|\n",
      "|     BHR|      Bahrain|            8.49|\n",
      "|     PAN|       Panama|            8.23|\n",
      "|     PRT|     Portugal|            8.06|\n",
      "|     EST|      Estonia|            8.02|\n",
      "|     SWE|       Sweden|            7.97|\n",
      "|     LTU|    Lithuania|            7.94|\n",
      "+--------+-------------+----------------+\n",
      "\n"
     ]
    }
   ],
   "source": [
    "result_1.show()"
   ]
  },
  {
   "cell_type": "markdown",
   "id": "23ea803c-4759-4eb8-a134-0d361eec3a98",
   "metadata": {},
   "source": [
    "### Задание 2.\n",
    "Top 10 стран с максимальным зафиксированным кол-вом новых случаев за последнюю неделю марта 2021 в отсортированном порядке по убыванию (в выходящем датасете необходимы колонки: число, страна, кол-во новых случаев)."
   ]
  },
  {
   "cell_type": "markdown",
   "id": "2790d43c-56e2-41bb-ae30-1f9c67be10f9",
   "metadata": {},
   "source": [
    "Будем считать, что под крайней неделей в марте понимается, крайниие 7 дней марта, т.е. даты с 25.03 по 31.03."
   ]
  },
  {
   "cell_type": "code",
   "execution_count": 11,
   "id": "ba0eb2a8-c2e0-4f45-8654-73a8f24d8e3f",
   "metadata": {},
   "outputs": [],
   "source": [
    "df_last_week_march = df.select(\n",
    "    'location', \n",
    "    'new_cases',\n",
    "    'date',\n",
    ").filter((col('date') >= '2021-03-25') & (col('date') <= '2021-03-31')).filter(~col('iso_code').contains('OWID'))"
   ]
  },
  {
   "cell_type": "code",
   "execution_count": 12,
   "id": "36b705cf-abd2-42f2-898a-3846c15d025b",
   "metadata": {},
   "outputs": [
    {
     "name": "stdout",
     "output_type": "stream",
     "text": [
      "+-----------+---------+----------+\n",
      "|   location|new_cases|      date|\n",
      "+-----------+---------+----------+\n",
      "|Afghanistan|     34.0|2021-03-25|\n",
      "|Afghanistan|     28.0|2021-03-26|\n",
      "|Afghanistan|     36.0|2021-03-27|\n",
      "|Afghanistan|      4.0|2021-03-28|\n",
      "|Afghanistan|     28.0|2021-03-29|\n",
      "|Afghanistan|     62.0|2021-03-30|\n",
      "|Afghanistan|     70.0|2021-03-31|\n",
      "|    Albania|    472.0|2021-03-25|\n",
      "|    Albania|    449.0|2021-03-26|\n",
      "|    Albania|    425.0|2021-03-27|\n",
      "|    Albania|    493.0|2021-03-28|\n",
      "|    Albania|    285.0|2021-03-29|\n",
      "|    Albania|    304.0|2021-03-30|\n",
      "|    Albania|    434.0|2021-03-31|\n",
      "|    Algeria|    105.0|2021-03-25|\n",
      "|    Algeria|    114.0|2021-03-26|\n",
      "|    Algeria|     93.0|2021-03-27|\n",
      "|    Algeria|     86.0|2021-03-28|\n",
      "|    Algeria|    110.0|2021-03-29|\n",
      "|    Algeria|    115.0|2021-03-30|\n",
      "+-----------+---------+----------+\n",
      "only showing top 20 rows\n",
      "\n"
     ]
    }
   ],
   "source": [
    "df_last_week_march.show()"
   ]
  },
  {
   "cell_type": "markdown",
   "id": "69263c2a-4c46-4f68-8099-a6031efe354d",
   "metadata": {},
   "source": [
    "Создадим оконную функцию, в которой отсортируем дни по количеству новых заболевших в каждой стране."
   ]
  },
  {
   "cell_type": "code",
   "execution_count": 13,
   "id": "dd7d6149-c1d4-435b-a58e-2c925de32b28",
   "metadata": {},
   "outputs": [],
   "source": [
    "window = Window().partitionBy('location').orderBy(col('new_cases').desc())"
   ]
  },
  {
   "cell_type": "code",
   "execution_count": 14,
   "id": "b170bf9f-e23c-48cc-b814-2e99458efe67",
   "metadata": {},
   "outputs": [],
   "source": [
    "result_2 = df_last_week_march.withColumn(\n",
    "    'row_number',\n",
    "    row_number().over(window)\n",
    ").filter(col('row_number') == '1').select(\n",
    "    'location', \n",
    "    'new_cases', \n",
    "    'date',\n",
    ").orderBy(col('new_cases').desc()).limit(10)"
   ]
  },
  {
   "cell_type": "code",
   "execution_count": 15,
   "id": "1d58afe1-5d59-40fc-8ca2-0ffd2a797040",
   "metadata": {},
   "outputs": [
    {
     "name": "stdout",
     "output_type": "stream",
     "text": [
      "+-------------+---------+----------+\n",
      "|     location|new_cases|      date|\n",
      "+-------------+---------+----------+\n",
      "|       Brazil| 100158.0|2021-03-25|\n",
      "|United States|  77321.0|2021-03-26|\n",
      "|        India|  72330.0|2021-03-31|\n",
      "|       France|  59054.0|2021-03-31|\n",
      "|       Turkey|  39302.0|2021-03-31|\n",
      "|       Poland|  35145.0|2021-03-26|\n",
      "|      Germany|  25014.0|2021-03-31|\n",
      "|        Italy|  24076.0|2021-03-26|\n",
      "|         Peru|  19206.0|2021-03-25|\n",
      "|      Ukraine|  18226.0|2021-03-26|\n",
      "+-------------+---------+----------+\n",
      "\n"
     ]
    }
   ],
   "source": [
    "result_2.show()"
   ]
  },
  {
   "cell_type": "markdown",
   "id": "8e6aa683-36ed-450a-8323-3699f6d8e65a",
   "metadata": {},
   "source": [
    "### Задание 3.\n",
    "Посчитать изменение случаев относительно предыдущего дня в России за последнюю неделю марта 2021. (например: в России вчера было 9150 , сегодня 8763, итог: -387)."
   ]
  },
  {
   "cell_type": "code",
   "execution_count": 16,
   "id": "716ce28f-3392-4102-bc88-c946c00447af",
   "metadata": {},
   "outputs": [
    {
     "name": "stdout",
     "output_type": "stream",
     "text": [
      "+----------+---------------+\n",
      "|      date|today_new_cases|\n",
      "+----------+---------------+\n",
      "|2021-03-24|         8769.0|\n",
      "|2021-03-25|         9128.0|\n",
      "|2021-03-26|         9073.0|\n",
      "|2021-03-27|         8783.0|\n",
      "|2021-03-28|         8979.0|\n",
      "|2021-03-29|         8589.0|\n",
      "|2021-03-30|         8162.0|\n",
      "|2021-03-31|         8156.0|\n",
      "+----------+---------------+\n",
      "\n"
     ]
    }
   ],
   "source": [
    "df_last_week_march_rus = df.select(\n",
    "    'date',\n",
    "    (col('new_cases').alias('today_new_cases')),\n",
    ").filter((col('date') >= '2021-03-24') & (col('date') <= '2021-03-31')).filter(col('iso_code') == 'RUS')\n",
    "df_last_week_march_rus.show()"
   ]
  },
  {
   "cell_type": "code",
   "execution_count": 17,
   "id": "57c86b45-cb53-4d8b-920e-bc53577b8687",
   "metadata": {},
   "outputs": [],
   "source": [
    "window = Window().partitionBy(lit(0)).orderBy('date')"
   ]
  },
  {
   "cell_type": "code",
   "execution_count": 18,
   "id": "beedf966-9aac-4606-ac83-b4dd303b3ff1",
   "metadata": {},
   "outputs": [],
   "source": [
    "result_3 = df_last_week_march_rus.withColumn(\n",
    "    'prev_day_new_cases',\n",
    "    lag(col('today_new_cases'), 1).over(window)).withColumn(\n",
    "    'delta_new_cases',\n",
    "    col('today_new_cases') - col('prev_day_new_cases')).filter(col('date') > '2021-03-24')"
   ]
  },
  {
   "cell_type": "code",
   "execution_count": 19,
   "id": "3f02446b-1d0e-46b7-becf-6585f2c19fa7",
   "metadata": {},
   "outputs": [
    {
     "name": "stdout",
     "output_type": "stream",
     "text": [
      "+----------+---------------+------------------+---------------+\n",
      "|      date|today_new_cases|prev_day_new_cases|delta_new_cases|\n",
      "+----------+---------------+------------------+---------------+\n",
      "|2021-03-25|         9128.0|            8769.0|          359.0|\n",
      "|2021-03-26|         9073.0|            9128.0|          -55.0|\n",
      "|2021-03-27|         8783.0|            9073.0|         -290.0|\n",
      "|2021-03-28|         8979.0|            8783.0|          196.0|\n",
      "|2021-03-29|         8589.0|            8979.0|         -390.0|\n",
      "|2021-03-30|         8162.0|            8589.0|         -427.0|\n",
      "|2021-03-31|         8156.0|            8162.0|           -6.0|\n",
      "+----------+---------------+------------------+---------------+\n",
      "\n"
     ]
    }
   ],
   "source": [
    "result_3.show()"
   ]
  },
  {
   "cell_type": "markdown",
   "id": "67779df0-13ec-48c6-ade5-fb74592f6376",
   "metadata": {},
   "source": [
    "### Сохранение результатов."
   ]
  },
  {
   "cell_type": "code",
   "execution_count": 20,
   "id": "d4f71308-0fea-4c73-8c3a-32afe1fe925e",
   "metadata": {},
   "outputs": [],
   "source": [
    "path = f'{os.getcwd()}/results/'"
   ]
  },
  {
   "cell_type": "code",
   "execution_count": 23,
   "id": "d16ad66d-6ed8-498f-b70d-9563ceb4186f",
   "metadata": {},
   "outputs": [],
   "source": [
    "for n, item in enumerate([result_1, result_2, result_3]):\n",
    "    item.write.option('header', True).csv(f'{path}result_{n + 1}_{datetime.now().date()}')"
   ]
  }
 ],
 "metadata": {
  "kernelspec": {
   "display_name": "Python 3 (ipykernel)",
   "language": "python",
   "name": "python3"
  },
  "language_info": {
   "codemirror_mode": {
    "name": "ipython",
    "version": 3
   },
   "file_extension": ".py",
   "mimetype": "text/x-python",
   "name": "python",
   "nbconvert_exporter": "python",
   "pygments_lexer": "ipython3",
   "version": "3.10.13"
  }
 },
 "nbformat": 4,
 "nbformat_minor": 5
}
